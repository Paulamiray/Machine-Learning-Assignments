{
 "cells": [
  {
   "cell_type": "code",
   "execution_count": 39,
   "metadata": {
    "collapsed": true
   },
   "outputs": [],
   "source": [
    "import pandas as pd\n",
    "import numpy as np\n",
    "import matplotlib.pyplot as plt\n",
    "from sklearn.ensemble import RandomForestClassifier\n",
    "from sklearn.model_selection import RandomizedSearchCV\n",
    "from sklearn import metrics\n",
    "from sklearn.metrics import confusion_matrix"
   ]
  },
  {
   "cell_type": "markdown",
   "metadata": {},
   "source": [
    "# Read the training data"
   ]
  },
  {
   "cell_type": "code",
   "execution_count": 2,
   "metadata": {
    "collapsed": true
   },
   "outputs": [],
   "source": [
    "train_data=pd.read_csv(\"training.csv\")"
   ]
  },
  {
   "cell_type": "code",
   "execution_count": 3,
   "metadata": {
    "collapsed": true
   },
   "outputs": [],
   "source": [
    "predictors=train_data.drop([\"class\"],axis=1)\n",
    "target=train_data[\"class\"]"
   ]
  },
  {
   "cell_type": "markdown",
   "metadata": {},
   "source": [
    "# Read the test data"
   ]
  },
  {
   "cell_type": "code",
   "execution_count": 4,
   "metadata": {
    "collapsed": true
   },
   "outputs": [],
   "source": [
    "test_data=pd.read_csv(\"testing.csv\")"
   ]
  },
  {
   "cell_type": "code",
   "execution_count": 5,
   "metadata": {
    "collapsed": true
   },
   "outputs": [],
   "source": [
    "predictors_test=test_data.drop([\"class\"],axis=1)\n",
    "target_test=test_data[\"class\"]"
   ]
  },
  {
   "cell_type": "markdown",
   "metadata": {},
   "source": [
    "# Base Model"
   ]
  },
  {
   "cell_type": "code",
   "execution_count": 6,
   "metadata": {},
   "outputs": [
    {
     "name": "stdout",
     "output_type": "stream",
     "text": [
      "Accuracy is: 0.777120315582\n"
     ]
    }
   ],
   "source": [
    "# Base model with no hyperparameter tuning\n",
    "from sklearn import metrics\n",
    "base_model = RandomForestClassifier(n_estimators = 10, random_state = 42)\n",
    "base_model.fit(predictors, target)\n",
    "predictions = base_model.predict(predictors_test)\n",
    "print(\"Accuracy is:\",metrics.accuracy_score(target_test,predictions))"
   ]
  },
  {
   "cell_type": "markdown",
   "metadata": {},
   "source": [
    "### Feature Ranking"
   ]
  },
  {
   "cell_type": "code",
   "execution_count": 7,
   "metadata": {},
   "outputs": [
    {
     "name": "stdout",
     "output_type": "stream",
     "text": [
      "('BrdIndx', 0.0034763253070681926)\n",
      "('Area', 0.022952227924512212)\n",
      "('Round', 0.00068588225687923584)\n",
      "('Bright', 0.0033281674902774921)\n",
      "('Compact', 0.0024398176614593087)\n",
      "('ShpIndx', 0.0012977554128318883)\n",
      "('Mean_G', 0.0072705552785245434)\n",
      "('Mean_R', 0.01165299713109697)\n",
      "('Mean_NIR', 0.013640597070248464)\n",
      "('SD_G', 0.0)\n",
      "('SD_R', 0.0089419580597286073)\n",
      "('SD_NIR', 0.0093915144981367594)\n",
      "('LW', 0.0034702813078158075)\n",
      "('GLCM1', 0.0023327718079373888)\n",
      "('Rect', 0.0055648286281536202)\n",
      "('GLCM2', 0.00028986290024935363)\n",
      "('Dens', 0.0)\n",
      "('Assym', 0.0)\n",
      "('NDVI', 0.068453899977002269)\n",
      "('BordLngth', 0.020391884341218434)\n",
      "('GLCM3', 0.016793353221218187)\n",
      "('BrdIndx_40', 0.0012703556671797786)\n",
      "('Area_40', 0.0023226047165465784)\n",
      "('Round_40', 0.0082555377408677182)\n",
      "('Bright_40', 0.027750190251379581)\n",
      "('Compact_40', 0.0010133504905903167)\n",
      "('ShpIndx_40', 0.0020576467706377075)\n",
      "('Mean_G_40', 0.0012563957147931867)\n",
      "('Mean_R_40', 0.028011910425691289)\n",
      "('Mean_NIR_40', 0.0058598093586309623)\n",
      "('SD_G_40', 0.0020393299344501092)\n",
      "('SD_R_40', 0.0040299923547274753)\n",
      "('SD_NIR_40', 0.0014637284864082356)\n",
      "('LW_40', 0.010261741360125923)\n",
      "('GLCM1_40', 0.0)\n",
      "('Rect_40', 0.0013288968727035197)\n",
      "('GLCM2_40', 0.0)\n",
      "('Dens_40', 0.0072110875821216457)\n",
      "('Assym_40', 0.0)\n",
      "('NDVI_40', 0.035782887234783747)\n",
      "('BordLngth_40', 0.002455943323735298)\n",
      "('GLCM3_40', 0.0)\n",
      "('BrdIndx_60', 0.018982178841278396)\n",
      "('Area_60', 0.0052020470037476303)\n",
      "('Round_60', 0.0)\n",
      "('Bright_60', 0.0097614133706813763)\n",
      "('Compact_60', 0.00068588225687923584)\n",
      "('ShpIndx_60', 0.0094443449260081854)\n",
      "('Mean_G_60', 0.0023400796015508297)\n",
      "('Mean_R_60', 0.017867941957100387)\n",
      "('Mean_NIR_60', 0.015069210815954987)\n",
      "('SD_G_60', 0.0)\n",
      "('SD_R_60', 0.0012634365474089525)\n",
      "('SD_NIR_60', 0.0011676938047356475)\n",
      "('LW_60', 0.0051075447008364448)\n",
      "('GLCM1_60', 0.0)\n",
      "('Rect_60', 0.0)\n",
      "('GLCM2_60', 0.0013043333592129623)\n",
      "('Dens_60', 0.0018083831130190436)\n",
      "('Assym_60', 0.0)\n",
      "('NDVI_60', 0.027700759976773924)\n",
      "('BordLngth_60', 0.0017879779766522233)\n",
      "('GLCM3_60', 0.0058526033782993524)\n",
      "('BrdIndx_80', 0.0)\n",
      "('Area_80', 0.0021787501126728096)\n",
      "('Round_80', 0.00090061112898037927)\n",
      "('Bright_80', 0.038119454268405663)\n",
      "('Compact_80', 0.0012702548652389878)\n",
      "('ShpIndx_80', 0.0)\n",
      "('Mean_G_80', 0.032341678953982017)\n",
      "('Mean_R_80', 0.011609247082345954)\n",
      "('Mean_NIR_80', 0.018134123400209357)\n",
      "('SD_G_80', 0.0087591305979382618)\n",
      "('SD_R_80', 0.0021865955447108129)\n",
      "('SD_NIR_80', 0.0)\n",
      "('LW_80', 0.0019519016080881888)\n",
      "('GLCM1_80', 0.011070325561280816)\n",
      "('Rect_80', 0.0)\n",
      "('GLCM2_80', 0.0)\n",
      "('Dens_80', 0.011722629970383116)\n",
      "('Assym_80', 0.0)\n",
      "('NDVI_80', 0.034632369473016858)\n",
      "('BordLngth_80', 0.002459555496700436)\n",
      "('GLCM3_80', 0.00067977664481670295)\n",
      "('BrdIndx_100', 0.0)\n",
      "('Area_100', 0.0)\n",
      "('Round_100', 0.0081543542364181636)\n",
      "('Bright_100', 0.005709513119897305)\n",
      "('Compact_100', 0.00061179898033503232)\n",
      "('ShpIndx_100', 0.032687934527657406)\n",
      "('Mean_G_100', 0.011759736550050097)\n",
      "('Mean_R_100', 0.023475976100237283)\n",
      "('Mean_NIR_100', 0.017205505534689303)\n",
      "('SD_G_100', 0.004858101289908566)\n",
      "('SD_R_100', 0.020334927482486186)\n",
      "('SD_NIR_100', 0.0)\n",
      "('LW_100', 0.0)\n",
      "('GLCM1_100', 0.0012160205887083808)\n",
      "('Rect_100', 0.0)\n",
      "('GLCM2_100', 0.00090061112898037927)\n",
      "('Dens_100', 0.0)\n",
      "('Assym_100', 0.00068270481144343297)\n",
      "('NDVI_100', 0.011838667481514345)\n",
      "('BordLngth_100', 0.00336970814974542)\n",
      "('GLCM3_100', 0.0010107492379271619)\n",
      "('BrdIndx_120', 0.012614470183815781)\n",
      "('Area_120', 0.0034860805082376108)\n",
      "('Round_120', 0.0024178187143909314)\n",
      "('Bright_120', 0.010088540060168644)\n",
      "('Compact_120', 0.0022534445882079436)\n",
      "('ShpIndx_120', 0.0019849307299684036)\n",
      "('Mean_G_120', 0.0)\n",
      "('Mean_R_120', 0.011756880182646545)\n",
      "('Mean_NIR_120', 0.0064892068097291752)\n",
      "('SD_G_120', 0.0)\n",
      "('SD_R_120', 0.0037521158098151029)\n",
      "('SD_NIR_120', 0.0060808228861733756)\n",
      "('LW_120', 0.0)\n",
      "('GLCM1_120', 0.0012345880623826247)\n",
      "('Rect_120', 0.00091027308192457733)\n",
      "('GLCM2_120', 0.0011666531637365312)\n",
      "('Dens_120', 0.0)\n",
      "('Assym_120', 0.00090075599163583729)\n",
      "('NDVI_120', 0.028876318411890887)\n",
      "('BordLngth_120', 0.0077242471585511636)\n",
      "('GLCM3_120', 0.0031735787721048382)\n",
      "('BrdIndx_140', 0.0088918493276427535)\n",
      "('Area_140', 0.001025975083462259)\n",
      "('Round_140', 0.0032401387082791507)\n",
      "('Bright_140', 0.0)\n",
      "('Compact_140', 0.00039815513212073338)\n",
      "('ShpIndx_140', 0.01005181766049002)\n",
      "('Mean_G_140', 0.0023199415993368057)\n",
      "('Mean_R_140', 0.00681338995482496)\n",
      "('Mean_NIR_140', 0.0030322477137814862)\n",
      "('SD_G_140', 0.010900862228605293)\n",
      "('SD_R_140', 0.0)\n",
      "('SD_NIR_140', 0.011011028687394092)\n",
      "('LW_140', 0.0012624083583811197)\n",
      "('GLCM1_140', 0.0)\n",
      "('Rect_140', 0.0)\n",
      "('GLCM2_140', 0.0073471490706420017)\n",
      "('Dens_140', 0.0073599221939175414)\n",
      "('Assym_140', 0.0099309829868655091)\n",
      "('NDVI_140', 0.018898995415419444)\n",
      "('BordLngth_140', 0.00067977664481670295)\n",
      "('GLCM3_140', 0.0)\n"
     ]
    }
   ],
   "source": [
    "for feature in zip(predictors, base_model.feature_importances_):\n",
    "    print(feature)"
   ]
  },
  {
   "cell_type": "markdown",
   "metadata": {},
   "source": [
    "#### Feature selection at 0.005 threshold"
   ]
  },
  {
   "cell_type": "code",
   "execution_count": 8,
   "metadata": {},
   "outputs": [
    {
     "data": {
      "text/plain": [
       "SelectFromModel(estimator=RandomForestClassifier(bootstrap=True, class_weight=None, criterion='gini',\n",
       "            max_depth=None, max_features='auto', max_leaf_nodes=None,\n",
       "            min_impurity_decrease=0.0, min_impurity_split=None,\n",
       "            min_samples_leaf=1, min_samples_split=2,\n",
       "            min_weight_fraction_leaf=0.0, n_estimators=10, n_jobs=1,\n",
       "            oob_score=False, random_state=42, verbose=0, warm_start=False),\n",
       "        norm_order=1, prefit=False, threshold=0.005)"
      ]
     },
     "execution_count": 8,
     "metadata": {},
     "output_type": "execute_result"
    }
   ],
   "source": [
    "from sklearn.feature_selection import SelectFromModel\n",
    "sfm = SelectFromModel(base_model, threshold=0.005)\n",
    "\n",
    "# Train the selector\n",
    "sfm.fit(predictors, target)"
   ]
  },
  {
   "cell_type": "code",
   "execution_count": 9,
   "metadata": {},
   "outputs": [
    {
     "name": "stdout",
     "output_type": "stream",
     "text": [
      "58\n"
     ]
    }
   ],
   "source": [
    "a=[]\n",
    "for feature_list_index in sfm.get_support(indices=True):\n",
    "    a.append(feature_list_index)\n",
    "\n",
    "print(len(a))"
   ]
  },
  {
   "cell_type": "markdown",
   "metadata": {},
   "source": [
    "#### Retaining only the important features"
   ]
  },
  {
   "cell_type": "code",
   "execution_count": 10,
   "metadata": {
    "collapsed": true
   },
   "outputs": [],
   "source": [
    "X_important_train = sfm.transform(predictors)\n",
    "X_important_test = sfm.transform(predictors_test)"
   ]
  },
  {
   "cell_type": "markdown",
   "metadata": {},
   "source": [
    "## Hyperparameter Tuning"
   ]
  },
  {
   "cell_type": "code",
   "execution_count": 14,
   "metadata": {},
   "outputs": [
    {
     "name": "stdout",
     "output_type": "stream",
     "text": [
      "Parameters currently in use:\n",
      "\n",
      "{'bootstrap': True,\n",
      " 'class_weight': None,\n",
      " 'criterion': 'gini',\n",
      " 'max_depth': None,\n",
      " 'max_features': 'auto',\n",
      " 'max_leaf_nodes': None,\n",
      " 'min_impurity_decrease': 0.0,\n",
      " 'min_impurity_split': None,\n",
      " 'min_samples_leaf': 1,\n",
      " 'min_samples_split': 2,\n",
      " 'min_weight_fraction_leaf': 0.0,\n",
      " 'n_estimators': 10,\n",
      " 'n_jobs': 1,\n",
      " 'oob_score': False,\n",
      " 'random_state': 42,\n",
      " 'verbose': 0,\n",
      " 'warm_start': False}\n"
     ]
    }
   ],
   "source": [
    "#Default hyperparameters for random forest\n",
    "from sklearn.ensemble import RandomForestClassifier\n",
    "rf = RandomForestClassifier(random_state = 42)\n",
    "from pprint import pprint\n",
    "# Look at parameters used by our current forest\n",
    "print('Parameters currently in use:\\n')\n",
    "pprint(rf.get_params())"
   ]
  },
  {
   "cell_type": "code",
   "execution_count": 15,
   "metadata": {},
   "outputs": [
    {
     "name": "stdout",
     "output_type": "stream",
     "text": [
      "{'bootstrap': [True, False],\n",
      " 'max_depth': [10, 20, 30, 40, 50, 60, 70, 80, 90, 100, 110, None],\n",
      " 'max_features': ['auto', 'sqrt'],\n",
      " 'min_samples_leaf': [1, 2, 4],\n",
      " 'min_samples_split': [2, 5, 10],\n",
      " 'n_estimators': [200, 400, 600, 800, 1000, 1200, 1400, 1600, 1800, 2000]}\n"
     ]
    }
   ],
   "source": [
    "# Number of trees in random forest\n",
    "n_estimators = [int(x) for x in np.linspace(start = 200, stop = 2000, num = 10)]\n",
    "# Number of features to consider at every split\n",
    "max_features = ['auto', 'sqrt']\n",
    "# Maximum number of levels in tree\n",
    "max_depth = [int(x) for x in np.linspace(10, 110, num = 11)]\n",
    "max_depth.append(None)\n",
    "# Minimum number of samples required to split a node\n",
    "min_samples_split = [2, 5, 10]\n",
    "# Minimum number of samples required at each leaf node\n",
    "min_samples_leaf = [1, 2, 4]\n",
    "# Method of selecting samples for training each tree\n",
    "bootstrap = [True, False]\n",
    "# Create the random grid\n",
    "random_grid = {'n_estimators': n_estimators,\n",
    "               'max_features': max_features,\n",
    "               'max_depth': max_depth,\n",
    "               'min_samples_split': min_samples_split,\n",
    "               'min_samples_leaf': min_samples_leaf,\n",
    "               'bootstrap': bootstrap}\n",
    "pprint(random_grid)"
   ]
  },
  {
   "cell_type": "code",
   "execution_count": 16,
   "metadata": {},
   "outputs": [
    {
     "name": "stdout",
     "output_type": "stream",
     "text": [
      "Fitting 3 folds for each of 100 candidates, totalling 300 fits\n"
     ]
    },
    {
     "name": "stderr",
     "output_type": "stream",
     "text": [
      "[Parallel(n_jobs=-1)]: Done  33 tasks      | elapsed:   29.8s\n",
      "[Parallel(n_jobs=-1)]: Done 154 tasks      | elapsed:  1.9min\n",
      "[Parallel(n_jobs=-1)]: Done 300 out of 300 | elapsed:  3.3min finished\n"
     ]
    },
    {
     "data": {
      "text/plain": [
       "RandomizedSearchCV(cv=3, error_score='raise',\n",
       "          estimator=RandomForestClassifier(bootstrap=True, class_weight=None, criterion='gini',\n",
       "            max_depth=None, max_features='auto', max_leaf_nodes=None,\n",
       "            min_impurity_decrease=0.0, min_impurity_split=None,\n",
       "            min_samples_leaf=1, min_samples_split=2,\n",
       "            min_weight_fraction_leaf=0.0, n_estimators=10, n_jobs=1,\n",
       "            oob_score=False, random_state=42, verbose=0, warm_start=False),\n",
       "          fit_params=None, iid=True, n_iter=100, n_jobs=-1,\n",
       "          param_distributions={'n_estimators': [200, 400, 600, 800, 1000, 1200, 1400, 1600, 1800, 2000], 'max_features': ['auto', 'sqrt'], 'max_depth': [10, 20, 30, 40, 50, 60, 70, 80, 90, 100, 110, None], 'min_samples_split': [2, 5, 10], 'min_samples_leaf': [1, 2, 4], 'bootstrap': [True, False]},\n",
       "          pre_dispatch='2*n_jobs', random_state=42, refit=True,\n",
       "          return_train_score='warn', scoring=None, verbose=2)"
      ]
     },
     "execution_count": 16,
     "metadata": {},
     "output_type": "execute_result"
    }
   ],
   "source": [
    "from sklearn.model_selection import RandomizedSearchCV\n",
    "rf_random = RandomizedSearchCV(estimator = rf, param_distributions = random_grid, n_iter = 100, cv = 3, verbose=2, random_state=42, n_jobs = -1)\n",
    "# Fit the random search model\n",
    "rf_random.fit(X_important_train,target)"
   ]
  },
  {
   "cell_type": "code",
   "execution_count": 17,
   "metadata": {},
   "outputs": [
    {
     "data": {
      "text/plain": [
       "{'bootstrap': False,\n",
       " 'max_depth': 10,\n",
       " 'max_features': 'sqrt',\n",
       " 'min_samples_leaf': 2,\n",
       " 'min_samples_split': 5,\n",
       " 'n_estimators': 1200}"
      ]
     },
     "execution_count": 17,
     "metadata": {},
     "output_type": "execute_result"
    }
   ],
   "source": [
    "rf_random.best_params_"
   ]
  },
  {
   "cell_type": "code",
   "execution_count": 40,
   "metadata": {},
   "outputs": [
    {
     "name": "stdout",
     "output_type": "stream",
     "text": [
      "Accuracy is: 0.792899408284\n"
     ]
    }
   ],
   "source": [
    "best_random = rf_random.best_estimator_\n",
    "predictions = best_random.predict(X_important_test)\n",
    "print(\"Accuracy is:\",metrics.accuracy_score(target_test,predictions))"
   ]
  },
  {
   "cell_type": "code",
   "execution_count": 34,
   "metadata": {},
   "outputs": [
    {
     "name": "stdout",
     "output_type": "stream",
     "text": [
      "             precision    recall  f1-score   support\n",
      "\n",
      "  concrete        0.92      0.78      0.84        45\n",
      "    shadow        0.90      0.64      0.75        97\n",
      "      tree        0.65      0.95      0.77        21\n",
      "   asphalt        0.75      0.88      0.81        93\n",
      "  building        0.75      0.88      0.81        83\n",
      "     grass        1.00      0.93      0.96        14\n",
      "      pool        0.77      0.91      0.84        45\n",
      "       car        0.56      0.70      0.62        20\n",
      "      soil        0.87      0.70      0.78        89\n",
      "\n",
      "avg / total       0.81      0.79      0.79       507\n",
      "\n"
     ]
    }
   ],
   "source": [
    "from sklearn.metrics import classification_report\n",
    "print(classification_report(target_test, predictions, target_names=target_test.unique()))"
   ]
  },
  {
   "cell_type": "code",
   "execution_count": 43,
   "metadata": {},
   "outputs": [
    {
     "data": {
      "text/plain": [
       "array([[35,  0,  2,  1,  0,  0,  6,  1,  0],\n",
       "       [ 1, 62,  4, 25,  0,  0,  1,  4,  0],\n",
       "       [ 0,  0, 20,  1,  0,  0,  0,  0,  0],\n",
       "       [ 0,  4,  2, 82,  0,  0,  0,  4,  1],\n",
       "       [ 0,  1,  1,  0, 73,  0,  0,  2,  6],\n",
       "       [ 0,  0,  0,  0,  1, 13,  0,  0,  0],\n",
       "       [ 2,  0,  0,  0,  0,  0, 41,  0,  2],\n",
       "       [ 0,  2,  2,  1,  1,  0,  0, 14,  0],\n",
       "       [ 0,  0,  0,  0, 22,  0,  5,  0, 62]], dtype=int64)"
      ]
     },
     "execution_count": 43,
     "metadata": {},
     "output_type": "execute_result"
    }
   ],
   "source": [
    "confusion_matrix(target_test, predictions)"
   ]
  },
  {
   "cell_type": "markdown",
   "metadata": {},
   "source": [
    "#### Feature selection at 0.01 threshold"
   ]
  },
  {
   "cell_type": "code",
   "execution_count": 19,
   "metadata": {},
   "outputs": [
    {
     "data": {
      "text/plain": [
       "SelectFromModel(estimator=RandomForestClassifier(bootstrap=True, class_weight=None, criterion='gini',\n",
       "            max_depth=None, max_features='auto', max_leaf_nodes=None,\n",
       "            min_impurity_decrease=0.0, min_impurity_split=None,\n",
       "            min_samples_leaf=1, min_samples_split=2,\n",
       "            min_weight_fraction_leaf=0.0, n_estimators=10, n_jobs=1,\n",
       "            oob_score=False, random_state=42, verbose=0, warm_start=False),\n",
       "        norm_order=1, prefit=False, threshold=0.01)"
      ]
     },
     "execution_count": 19,
     "metadata": {},
     "output_type": "execute_result"
    }
   ],
   "source": [
    "from sklearn.feature_selection import SelectFromModel\n",
    "sfm = SelectFromModel(base_model, threshold=0.01)\n",
    "\n",
    "# Train the selector\n",
    "sfm.fit(predictors, target)"
   ]
  },
  {
   "cell_type": "code",
   "execution_count": 20,
   "metadata": {},
   "outputs": [
    {
     "name": "stdout",
     "output_type": "stream",
     "text": [
      "35\n"
     ]
    }
   ],
   "source": [
    "a=[]\n",
    "for feature_list_index in sfm.get_support(indices=True):\n",
    "    a.append(feature_list_index)\n",
    "\n",
    "print(len(a))"
   ]
  },
  {
   "cell_type": "markdown",
   "metadata": {},
   "source": [
    "#### Retaining only the important features"
   ]
  },
  {
   "cell_type": "code",
   "execution_count": 21,
   "metadata": {
    "collapsed": true
   },
   "outputs": [],
   "source": [
    "X_important_train_1 = sfm.transform(predictors)\n",
    "X_important_test_1 = sfm.transform(predictors_test)"
   ]
  },
  {
   "cell_type": "code",
   "execution_count": 22,
   "metadata": {},
   "outputs": [
    {
     "name": "stdout",
     "output_type": "stream",
     "text": [
      "Fitting 3 folds for each of 100 candidates, totalling 300 fits\n"
     ]
    },
    {
     "name": "stderr",
     "output_type": "stream",
     "text": [
      "[Parallel(n_jobs=-1)]: Done  33 tasks      | elapsed:   26.2s\n",
      "[Parallel(n_jobs=-1)]: Done 154 tasks      | elapsed:  1.6min\n",
      "[Parallel(n_jobs=-1)]: Done 300 out of 300 | elapsed:  3.1min finished\n"
     ]
    },
    {
     "data": {
      "text/plain": [
       "RandomizedSearchCV(cv=3, error_score='raise',\n",
       "          estimator=RandomForestClassifier(bootstrap=True, class_weight=None, criterion='gini',\n",
       "            max_depth=None, max_features='auto', max_leaf_nodes=None,\n",
       "            min_impurity_decrease=0.0, min_impurity_split=None,\n",
       "            min_samples_leaf=1, min_samples_split=2,\n",
       "            min_weight_fraction_leaf=0.0, n_estimators=10, n_jobs=1,\n",
       "            oob_score=False, random_state=42, verbose=0, warm_start=False),\n",
       "          fit_params=None, iid=True, n_iter=100, n_jobs=-1,\n",
       "          param_distributions={'n_estimators': [200, 400, 600, 800, 1000, 1200, 1400, 1600, 1800, 2000], 'max_features': ['auto', 'sqrt'], 'max_depth': [10, 20, 30, 40, 50, 60, 70, 80, 90, 100, 110, None], 'min_samples_split': [2, 5, 10], 'min_samples_leaf': [1, 2, 4], 'bootstrap': [True, False]},\n",
       "          pre_dispatch='2*n_jobs', random_state=42, refit=True,\n",
       "          return_train_score='warn', scoring=None, verbose=2)"
      ]
     },
     "execution_count": 22,
     "metadata": {},
     "output_type": "execute_result"
    }
   ],
   "source": [
    "from sklearn.model_selection import RandomizedSearchCV\n",
    "rf_random_1 = RandomizedSearchCV(estimator = rf, param_distributions = random_grid, n_iter = 100, cv = 3, verbose=2, random_state=42, n_jobs = -1)\n",
    "# Fit the random search model\n",
    "rf_random_1.fit(X_important_train_1,target)"
   ]
  },
  {
   "cell_type": "code",
   "execution_count": 23,
   "metadata": {},
   "outputs": [
    {
     "data": {
      "text/plain": [
       "{'bootstrap': False,\n",
       " 'max_depth': 70,\n",
       " 'max_features': 'sqrt',\n",
       " 'min_samples_leaf': 1,\n",
       " 'min_samples_split': 5,\n",
       " 'n_estimators': 1600}"
      ]
     },
     "execution_count": 23,
     "metadata": {},
     "output_type": "execute_result"
    }
   ],
   "source": [
    "rf_random_1.best_params_"
   ]
  },
  {
   "cell_type": "code",
   "execution_count": 44,
   "metadata": {},
   "outputs": [
    {
     "name": "stdout",
     "output_type": "stream",
     "text": [
      "Accuracy is: 0.786982248521\n"
     ]
    }
   ],
   "source": [
    "best_random_1 = rf_random_1.best_estimator_\n",
    "predictions = best_random_1.predict(X_important_test_1)\n",
    "print(\"Accuracy is:\",metrics.accuracy_score(target_test,predictions))"
   ]
  },
  {
   "cell_type": "code",
   "execution_count": 36,
   "metadata": {},
   "outputs": [
    {
     "name": "stdout",
     "output_type": "stream",
     "text": [
      "             precision    recall  f1-score   support\n",
      "\n",
      "  concrete        0.89      0.76      0.82        45\n",
      "    shadow        0.89      0.67      0.76        97\n",
      "      tree        0.59      0.95      0.73        21\n",
      "   asphalt        0.77      0.87      0.82        93\n",
      "  building        0.73      0.89      0.80        83\n",
      "     grass        1.00      0.93      0.96        14\n",
      "      pool        0.75      0.89      0.82        45\n",
      "       car        0.54      0.65      0.59        20\n",
      "      soil        0.89      0.66      0.76        89\n",
      "\n",
      "avg / total       0.81      0.79      0.79       507\n",
      "\n"
     ]
    }
   ],
   "source": [
    "print(classification_report(target_test, predictions, target_names=target_test.unique()))"
   ]
  },
  {
   "cell_type": "code",
   "execution_count": 45,
   "metadata": {},
   "outputs": [
    {
     "data": {
      "text/plain": [
       "array([[34,  1,  2,  0,  0,  0,  7,  1,  0],\n",
       "       [ 1, 65,  4, 22,  0,  0,  1,  4,  0],\n",
       "       [ 0,  0, 20,  1,  0,  0,  0,  0,  0],\n",
       "       [ 0,  5,  3, 81,  0,  0,  0,  3,  1],\n",
       "       [ 0,  1,  1,  0, 74,  0,  0,  3,  4],\n",
       "       [ 0,  0,  0,  0,  1, 13,  0,  0,  0],\n",
       "       [ 3,  0,  0,  0,  0,  0, 40,  0,  2],\n",
       "       [ 0,  1,  4,  1,  1,  0,  0, 13,  0],\n",
       "       [ 0,  0,  0,  0, 25,  0,  5,  0, 59]], dtype=int64)"
      ]
     },
     "execution_count": 45,
     "metadata": {},
     "output_type": "execute_result"
    }
   ],
   "source": [
    "confusion_matrix(target_test, predictions)"
   ]
  },
  {
   "cell_type": "markdown",
   "metadata": {},
   "source": [
    "## On the entire featureset"
   ]
  },
  {
   "cell_type": "code",
   "execution_count": 25,
   "metadata": {},
   "outputs": [
    {
     "name": "stdout",
     "output_type": "stream",
     "text": [
      "Fitting 3 folds for each of 100 candidates, totalling 300 fits\n"
     ]
    },
    {
     "name": "stderr",
     "output_type": "stream",
     "text": [
      "[Parallel(n_jobs=-1)]: Done  33 tasks      | elapsed:   32.9s\n",
      "[Parallel(n_jobs=-1)]: Done 154 tasks      | elapsed:  1.9min\n",
      "[Parallel(n_jobs=-1)]: Done 300 out of 300 | elapsed:  3.6min finished\n"
     ]
    },
    {
     "data": {
      "text/plain": [
       "RandomizedSearchCV(cv=3, error_score='raise',\n",
       "          estimator=RandomForestClassifier(bootstrap=True, class_weight=None, criterion='gini',\n",
       "            max_depth=None, max_features='auto', max_leaf_nodes=None,\n",
       "            min_impurity_decrease=0.0, min_impurity_split=None,\n",
       "            min_samples_leaf=1, min_samples_split=2,\n",
       "            min_weight_fraction_leaf=0.0, n_estimators=10, n_jobs=1,\n",
       "            oob_score=False, random_state=42, verbose=0, warm_start=False),\n",
       "          fit_params=None, iid=True, n_iter=100, n_jobs=-1,\n",
       "          param_distributions={'n_estimators': [200, 400, 600, 800, 1000, 1200, 1400, 1600, 1800, 2000], 'max_features': ['auto', 'sqrt'], 'max_depth': [10, 20, 30, 40, 50, 60, 70, 80, 90, 100, 110, None], 'min_samples_split': [2, 5, 10], 'min_samples_leaf': [1, 2, 4], 'bootstrap': [True, False]},\n",
       "          pre_dispatch='2*n_jobs', random_state=42, refit=True,\n",
       "          return_train_score='warn', scoring=None, verbose=2)"
      ]
     },
     "execution_count": 25,
     "metadata": {},
     "output_type": "execute_result"
    }
   ],
   "source": [
    "from sklearn.model_selection import RandomizedSearchCV\n",
    "rf_random_2 = RandomizedSearchCV(estimator = rf, param_distributions = random_grid, n_iter = 100, cv = 3, verbose=2, random_state=42, n_jobs = -1)\n",
    "# Fit the random search model\n",
    "rf_random_2.fit(predictors,target)"
   ]
  },
  {
   "cell_type": "code",
   "execution_count": 26,
   "metadata": {},
   "outputs": [
    {
     "data": {
      "text/plain": [
       "{'bootstrap': True,\n",
       " 'max_depth': 80,\n",
       " 'max_features': 'auto',\n",
       " 'min_samples_leaf': 1,\n",
       " 'min_samples_split': 5,\n",
       " 'n_estimators': 600}"
      ]
     },
     "execution_count": 26,
     "metadata": {},
     "output_type": "execute_result"
    }
   ],
   "source": [
    "rf_random_2.best_params_"
   ]
  },
  {
   "cell_type": "code",
   "execution_count": 46,
   "metadata": {},
   "outputs": [
    {
     "name": "stdout",
     "output_type": "stream",
     "text": [
      "Accuracy is: 0.812623274162\n"
     ]
    }
   ],
   "source": [
    "# On 145 features\n",
    "best_random_2 = rf_random_2.best_estimator_\n",
    "predictions = best_random_2.predict(predictors_test)\n",
    "print(\"Accuracy is:\",metrics.accuracy_score(target_test,predictions))"
   ]
  },
  {
   "cell_type": "code",
   "execution_count": 38,
   "metadata": {},
   "outputs": [
    {
     "name": "stdout",
     "output_type": "stream",
     "text": [
      "             precision    recall  f1-score   support\n",
      "\n",
      "  concrete        0.95      0.82      0.88        45\n",
      "    shadow        0.88      0.72      0.79        97\n",
      "      tree        0.67      0.95      0.78        21\n",
      "   asphalt        0.79      0.89      0.84        93\n",
      "  building        0.76      0.88      0.82        83\n",
      "     grass        1.00      0.86      0.92        14\n",
      "      pool        0.79      0.93      0.86        45\n",
      "       car        0.58      0.55      0.56        20\n",
      "      soil        0.88      0.72      0.79        89\n",
      "\n",
      "avg / total       0.82      0.81      0.81       507\n",
      "\n"
     ]
    }
   ],
   "source": [
    "print(classification_report(target_test, predictions, target_names=target_test.unique()))"
   ]
  },
  {
   "cell_type": "code",
   "execution_count": 47,
   "metadata": {},
   "outputs": [
    {
     "data": {
      "text/plain": [
       "array([[37,  1,  1,  0,  0,  0,  4,  1,  1],\n",
       "       [ 1, 70,  3, 20,  0,  0,  1,  2,  0],\n",
       "       [ 0,  0, 20,  1,  0,  0,  0,  0,  0],\n",
       "       [ 0,  4,  2, 83,  0,  0,  0,  3,  1],\n",
       "       [ 0,  1,  1,  0, 73,  0,  0,  2,  6],\n",
       "       [ 0,  1,  0,  0,  1, 12,  0,  0,  0],\n",
       "       [ 1,  0,  1,  0,  0,  0, 42,  0,  1],\n",
       "       [ 0,  3,  2,  1,  3,  0,  0, 11,  0],\n",
       "       [ 0,  0,  0,  0, 19,  0,  6,  0, 64]], dtype=int64)"
      ]
     },
     "execution_count": 47,
     "metadata": {},
     "output_type": "execute_result"
    }
   ],
   "source": [
    "confusion_matrix(target_test, predictions)"
   ]
  },
  {
   "cell_type": "code",
   "execution_count": 28,
   "metadata": {},
   "outputs": [
    {
     "name": "stdout",
     "output_type": "stream",
     "text": [
      "Feature ranking:\n",
      "1. feature 18 (0.046050)\n",
      "2. feature 39 (0.035563)\n",
      "3. feature 60 (0.032472)\n",
      "4. feature 81 (0.028617)\n",
      "5. feature 6 (0.020592)\n",
      "6. feature 144 (0.018461)\n",
      "7. feature 66 (0.018011)\n",
      "8. feature 87 (0.017995)\n",
      "9. feature 29 (0.017954)\n",
      "10. feature 102 (0.017137)\n",
      "11. feature 123 (0.016762)\n",
      "12. feature 3 (0.016473)\n",
      "13. feature 7 (0.016301)\n",
      "14. feature 48 (0.015826)\n",
      "15. feature 70 (0.015683)\n",
      "16. feature 71 (0.015103)\n",
      "17. feature 28 (0.014835)\n",
      "18. feature 27 (0.014464)\n",
      "19. feature 8 (0.014237)\n",
      "20. feature 92 (0.013698)\n"
     ]
    }
   ],
   "source": [
    "import matplotlib.pyplot as plt\n",
    "importances = best_random_2.feature_importances_\n",
    "std = np.std([tree.feature_importances_ for tree in best_random_2.estimators_],\n",
    "             axis=0)\n",
    "indices = np.argsort(importances)[::-1]\n",
    "indices=indices[0:20]\n",
    "# Print the feature ranking\n",
    "print(\"Feature ranking:\")\n",
    "\n",
    "for f in range(20):\n",
    "    print(\"%d. feature %d (%f)\" % (f + 1, indices[f], importances[indices[f]]))"
   ]
  },
  {
   "cell_type": "code",
   "execution_count": 29,
   "metadata": {},
   "outputs": [
    {
     "data": {
      "image/png": "[encoded data removed]",
      "text/plain": [
       "<matplotlib.figure.Figure at 0x1db3d1afb70>"
      ]
     },
     "metadata": {},
     "output_type": "display_data"
    }
   ],
   "source": [
    "# Plot the feature importances of the forest\n",
    "plt.figure(figsize=(20,10))\n",
    "plt.title(\"Feature importances\")\n",
    "plt.bar(range(20), importances[indices],\n",
    "       color=\"g\", yerr=std[indices], align=\"center\")\n",
    "plt.xticks(range(20), indices,rotation=60)\n",
    "plt.xlim([-1, 20])\n",
    "plt.show()"
   ]
  },
  {
   "cell_type": "markdown",
   "metadata": {},
   "source": [
    "# Using RFE with SVC"
   ]
  },
  {
   "cell_type": "code",
   "execution_count": 48,
   "metadata": {},
   "outputs": [
    {
     "name": "stdout",
     "output_type": "stream",
     "text": [
      "Optimal number of features : 20\n"
     ]
    },
    {
     "data": {
      "image/png": "[encoded data removed]",
      "text/plain": [
       "<matplotlib.figure.Figure at 0x1db3d1af668>"
      ]
     },
     "metadata": {},
     "output_type": "display_data"
    }
   ],
   "source": [
    "import matplotlib.pyplot as plt\n",
    "from sklearn.svm import SVC\n",
    "from sklearn.model_selection import StratifiedKFold\n",
    "from sklearn.feature_selection import RFECV\n",
    "\n",
    "# Create the RFE object and compute a cross-validated score.\n",
    "svc = SVC(kernel=\"linear\")\n",
    "# The \"accuracy\" scoring is proportional to the number of correct\n",
    "# classifications\n",
    "rfecv = RFECV(estimator=svc, step=1, cv=10,\n",
    "              scoring='accuracy')\n",
    "rfecv.fit(predictors, target)\n",
    "\n",
    "print(\"Optimal number of features : %d\" % rfecv.n_features_)\n",
    "\n",
    "# Plot number of features VS. cross-validation scores\n",
    "plt.figure()\n",
    "plt.xlabel(\"Number of features selected\")\n",
    "plt.ylabel(\"Cross validation score (nb of correct classifications)\")\n",
    "plt.plot(range(1, len(rfecv.grid_scores_) + 1), rfecv.grid_scores_)\n",
    "plt.show()"
   ]
  },
  {
   "cell_type": "code",
   "execution_count": 49,
   "metadata": {},
   "outputs": [
    {
     "name": "stdout",
     "output_type": "stream",
     "text": [
      "Chosen best feature by rfe with 10-fold cross-validation is : Index(['Bright', 'Mean_G', 'Mean_R', 'Mean_NIR', 'Mean_G_40', 'Mean_R_40',\n",
      "       'Mean_NIR_40', 'Mean_G_60', 'Mean_R_60', 'Mean_NIR_60', 'Mean_R_80',\n",
      "       'Mean_NIR_80', 'Mean_G_100', 'Mean_R_100', 'Mean_NIR_100', 'Bright_120',\n",
      "       'Mean_R_120', 'Bright_140', 'Mean_G_140', 'Mean_R_140'],\n",
      "      dtype='object')\n"
     ]
    }
   ],
   "source": [
    "print('Chosen best feature by rfe with 10-fold cross-validation is :',predictors.columns[rfecv.support_])"
   ]
  },
  {
   "cell_type": "code",
   "execution_count": 50,
   "metadata": {
    "collapsed": true
   },
   "outputs": [],
   "source": [
    "predict_svc=rfecv.predict(predictors_test)"
   ]
  },
  {
   "cell_type": "code",
   "execution_count": 51,
   "metadata": {},
   "outputs": [
    {
     "name": "stdout",
     "output_type": "stream",
     "text": [
      "Accuracy: 0.648915187377\n"
     ]
    }
   ],
   "source": [
    "print(\"Accuracy:\",metrics.accuracy_score(target_test,predict_svc))"
   ]
  },
  {
   "cell_type": "code",
   "execution_count": 52,
   "metadata": {},
   "outputs": [
    {
     "name": "stdout",
     "output_type": "stream",
     "text": [
      "             precision    recall  f1-score   support\n",
      "\n",
      "  concrete        0.95      0.82      0.88        45\n",
      "    shadow        0.88      0.72      0.79        97\n",
      "      tree        0.67      0.95      0.78        21\n",
      "   asphalt        0.79      0.89      0.84        93\n",
      "  building        0.76      0.88      0.82        83\n",
      "     grass        1.00      0.86      0.92        14\n",
      "      pool        0.79      0.93      0.86        45\n",
      "       car        0.58      0.55      0.56        20\n",
      "      soil        0.88      0.72      0.79        89\n",
      "\n",
      "avg / total       0.82      0.81      0.81       507\n",
      "\n"
     ]
    }
   ],
   "source": [
    "print(classification_report(target_test, predictions, target_names=target_test.unique()))"
   ]
  },
  {
   "cell_type": "code",
   "execution_count": 53,
   "metadata": {},
   "outputs": [
    {
     "data": {
      "text/plain": [
       "array([[37,  1,  1,  0,  0,  0,  4,  1,  1],\n",
       "       [ 1, 70,  3, 20,  0,  0,  1,  2,  0],\n",
       "       [ 0,  0, 20,  1,  0,  0,  0,  0,  0],\n",
       "       [ 0,  4,  2, 83,  0,  0,  0,  3,  1],\n",
       "       [ 0,  1,  1,  0, 73,  0,  0,  2,  6],\n",
       "       [ 0,  1,  0,  0,  1, 12,  0,  0,  0],\n",
       "       [ 1,  0,  1,  0,  0,  0, 42,  0,  1],\n",
       "       [ 0,  3,  2,  1,  3,  0,  0, 11,  0],\n",
       "       [ 0,  0,  0,  0, 19,  0,  6,  0, 64]], dtype=int64)"
      ]
     },
     "execution_count": 53,
     "metadata": {},
     "output_type": "execute_result"
    }
   ],
   "source": [
    "confusion_matrix(target_test, predictions)"
   ]
  }
 ],
 "metadata": {
  "kernelspec": {
   "display_name": "Python 3",
   "language": "python",
   "name": "python3"
  },
  "language_info": {
   "codemirror_mode": {
    "name": "ipython",
    "version": 3
   },
   "file_extension": ".py",
   "mimetype": "text/x-python",
   "name": "python",
   "nbconvert_exporter": "python",
   "pygments_lexer": "ipython3",
   "version": "3.6.5"
  }
 },
 "nbformat": 4,
 "nbformat_minor": 2
}
